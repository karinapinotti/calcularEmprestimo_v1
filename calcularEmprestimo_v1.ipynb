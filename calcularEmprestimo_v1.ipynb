{
 "cells": [
  {
   "cell_type": "markdown",
   "id": "c0145958",
   "metadata": {},
   "source": [
    "#### Calcular simulação de emprestimo"
   ]
  },
  {
   "cell_type": "code",
   "execution_count": 79,
   "id": "c9d3c9d2",
   "metadata": {},
   "outputs": [],
   "source": [
    "import sys"
   ]
  },
  {
   "cell_type": "code",
   "execution_count": 84,
   "id": "624c1263",
   "metadata": {},
   "outputs": [],
   "source": [
    "def calculaEmprestimo(valorEmprestimo, taxaJuros, qtdParcelas):\n",
    "    valorParcela = ((valorEmprestimo * taxaJuros) / 100) / (1 - 1 / (1 + taxaJuros / 100) ** qtdParcelas)\n",
    "    valorTotal = valorParcela * qtdParcelas\n",
    "    print(\"O total do emprestimo será: \", valorTotal, \",pago em: \", qtdParcelas, \"vezes de: \", valorParcela)\n",
    "    \n",
    "    #valor da parcela = (valor do empréstimo ∗ juros / 100) / (1 − 1 / (1 + juros / 100) ∗∗ quantidade de parcelas )    "
   ]
  },
  {
   "cell_type": "code",
   "execution_count": 85,
   "id": "24a8a989",
   "metadata": {},
   "outputs": [
    {
     "name": "stdout",
     "output_type": "stream",
     "text": [
      "Qual é o valor total do emprestimo?1000\n",
      "Qual será a taxa de juros?1.5\n",
      "Qual será a quantidade de parcelas?20\n"
     ]
    }
   ],
   "source": [
    "valorEmprestimo = float(input('Qual é o valor total do emprestimo?'))\n",
    "taxaJuros = float(input('Qual será a taxa de juros?'))\n",
    "qtdParcelas = int(input('Qual será a quantidade de parcelas?'))"
   ]
  },
  {
   "cell_type": "code",
   "execution_count": 86,
   "id": "669bfb3e",
   "metadata": {},
   "outputs": [
    {
     "name": "stdout",
     "output_type": "stream",
     "text": [
      "O total do emprestimo será:  1164.9147174893324 ,pago em:  20 vezes de:  58.24573587446662\n"
     ]
    }
   ],
   "source": [
    "calculaEmprestimo(valorEmprestimo, taxaJuros, qtdParcelas)"
   ]
  },
  {
   "cell_type": "code",
   "execution_count": null,
   "id": "ae14fbc4",
   "metadata": {},
   "outputs": [],
   "source": []
  }
 ],
 "metadata": {
  "kernelspec": {
   "display_name": "Python 3",
   "language": "python",
   "name": "python3"
  },
  "language_info": {
   "codemirror_mode": {
    "name": "ipython",
    "version": 3
   },
   "file_extension": ".py",
   "mimetype": "text/x-python",
   "name": "python",
   "nbconvert_exporter": "python",
   "pygments_lexer": "ipython3",
   "version": "3.8.8"
  }
 },
 "nbformat": 4,
 "nbformat_minor": 5
}
